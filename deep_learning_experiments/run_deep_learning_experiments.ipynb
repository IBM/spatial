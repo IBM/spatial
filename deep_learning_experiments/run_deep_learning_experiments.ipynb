{
 "cells": [
  {
   "cell_type": "code",
   "execution_count": null,
   "metadata": {},
   "outputs": [],
   "source": [
    "import pandas as pd\n",
    "import numpy as np\n",
    "import matplotlib.pyplot as plt\n",
    "import seaborn as sns\n",
    "from functions import  SP_Learner, interpolate\n",
    "from sklearn.metrics import mean_absolute_error\n",
    "from sklearn.metrics import mean_absolute_percentage_error\n",
    "import matplotlib\n",
    "from matplotlib import rc\n",
    "import warnings\n",
    "from pathlib import Path\n",
    "\n",
    "warnings.filterwarnings('ignore')\n",
    "rc(\"text\", usetex=False)\n",
    "matplotlib.rcParams.update({'font.size': 14})\n",
    "sns.set(font_scale = 2)\n",
    "\n",
    "model_select =  ['SPATIAL', 'CNN', 'LSTM']\n"
   ]
  },
  {
   "cell_type": "markdown",
   "metadata": {},
   "source": [
    "# Select which models to run\n",
    "Choice are `['SPATIAL', 'CNN', 'LSTM']` and default is that all models are run"
   ]
  },
  {
   "cell_type": "code",
   "execution_count": null,
   "metadata": {},
   "outputs": [],
   "source": [
    "model_select =  ['SPATIAL']"
   ]
  },
  {
   "cell_type": "markdown",
   "metadata": {},
   "source": [
    "# Select which dataset to run for [ADCP, Temperature, or Dissolved oxygen]"
   ]
  },
  {
   "cell_type": "code",
   "execution_count": null,
   "metadata": {},
   "outputs": [],
   "source": [
    "['ADCP_sensor_', 'Oxygen_Sensor', 'Temp_Sensor']\n",
    "ts_stem = 'ADCP_sensor_' \n"
   ]
  },
  {
   "cell_type": "code",
   "execution_count": null,
   "metadata": {},
   "outputs": [],
   "source": [
    "train_split, test_split = .8 ,1 # We allocate 80% for training and remaining 20% for test\n",
    "root = '.'\n",
    "result = root + '/Results/'\n",
    "error_folder = './errors/'\n",
    "run_metrics = './running_data/'\n",
    "mod_summary = './model_summary/'\n",
    "\n",
    "\n",
    "Path(result).mkdir(parents=True, exist_ok=True)\n",
    "Path(error_folder).mkdir(parents=True, exist_ok=True)\n",
    "Path(run_metrics).mkdir(parents=True, exist_ok=True)\n",
    "Path(mod_summary).mkdir(parents=True, exist_ok=True)\n",
    "\n",
    "\n",
    "if 'ADCP' in ts_stem:\n",
    "    sensor_idx = [2,4]\n",
    "else:\n",
    "    sensor_idx = [1,8,9]\n",
    "\n",
    "#load Temperature data from the local file\n",
    "# The data is resampled with a 30 minutes range\n",
    "# pick 80%-100% to test\n",
    "Temp = []\n",
    "data = pd.DataFrame()\n",
    "file_name = '../sensor_data/interpolated_data/' + ts_stem\n",
    "for i in sensor_idx: # We have data quality issues with the other sensors\n",
    "    df = pd.read_csv(file_name+str(i)+'.csv',index_col=\"observed_timestamp\", parse_dates=True)\n",
    "    data = data.append(df)\n",
    "    s = df.size\n",
    "    print('data_length: ', s)\n",
    "    df_train = df[:int(train_split*s)]\n",
    "    df_train[np.isnan(df_train)]=-1.0\n",
    "    df_test = df[int(train_split*s):int(test_split*s)]\n",
    "    print(df_train.size, df_test.size)\n",
    "    Temp.append(df.value.to_list()) # Creating a list of all sensor dataframes"
   ]
  },
  {
   "cell_type": "code",
   "execution_count": null,
   "metadata": {},
   "outputs": [],
   "source": [
    "nlag = 48\n",
    "Temp_time = df.index[nlag:] # Why? \n",
    "test_Temp_time = Temp_time[int(train_split*(len(Temp_time))):]\n",
    "\n",
    "print([len(Temp[i]) for i in range(len(Temp))])\n",
    "l = min([len(Temp[i]) for i in range(len(Temp))])\n",
    "# We want all sensors to begin at same time\n",
    "Temp = [T[:l] for T in Temp]\n",
    "print([len(Temp[i]) for i in range(len(Temp))])\n",
    "\n",
    "if 'ADCP' in ts_stem:\n",
    "    df = pd.DataFrame({'S1': Temp[0],\n",
    "                'S2': Temp[1]})\n",
    "else:\n",
    "    df = pd.DataFrame({'S1': Temp[0],\n",
    "            'S2': Temp[1],\n",
    "            'S3': Temp[2]})\n",
    "Temp_diff = df.diff(periods=nlag)[nlag:]\n",
    "#dataset\n",
    "Temp_diff = np.transpose(Temp_diff.to_numpy())\n"
   ]
  },
  {
   "cell_type": "markdown",
   "metadata": {},
   "source": [
    "# Model parameters"
   ]
  },
  {
   "cell_type": "code",
   "execution_count": null,
   "metadata": {},
   "outputs": [],
   "source": [
    "#training info\n",
    "train_time = 6\n",
    "predict_time = 1\n",
    "predict_position = 47\n",
    "Stride = 1\n",
    "epoches = 100\n",
    "batch_size = 512"
   ]
  },
  {
   "cell_type": "code",
   "execution_count": null,
   "metadata": {},
   "outputs": [],
   "source": [
    "#SPATIAL -------------------------- model training \n",
    "if 'SPATIAL' in model_select:\n",
    "    name = '_Temp_diff_' + 'SPATIAL'\n",
    "    tp_py, tp_ty, tp_error, tp_std, tp_model = SP_Learner(Temp_diff, name,  train_split, test_split,  train_time, predict_time, \n",
    "                                                            predict_position, Stride, 0, epoches, run_model='SPATIAL',\n",
    "                                                            batch_size=batch_size, plot=False)\n",
    "    print('Temp SPATIAL MEAN: ', data.mean(), 'STD: ',data.std(), 'Skew: ', data.skew())\n",
    "\n",
    "    #record the errors\n",
    "    error_file = error_folder + name + '_error.txt'\n",
    "    open(error_file, 'w').close()\n",
    "    MAE = []\n",
    "    MAPE = []\n",
    "    STD = []\n",
    "    with open(error_file, \"a\") as text_file:\n",
    "        for i in range(len(tp_py)):\n",
    "            mae = mean_absolute_error(tp_ty[i], tp_py[i])\n",
    "            MAE.append(mae)\n",
    "            mape = mean_absolute_percentage_error(tp_ty[i], tp_py[i])\n",
    "            MAPE.append(mape)\n",
    "            std = np.std(abs(tp_ty[i] - tp_py[i]))\n",
    "            STD.append(std)\n",
    "            info = 'Oxygen sensor {}:   mae: {:.4f},  std: {:.4f}, mape: {:.4f}'.format(i, mae, std, mape)\n",
    "            text_file.write(info + \"\\n\")\n",
    "            print('mae: ', mae, 'std: ', std, 'mape: ', mape)\n",
    "        info = 'Oxygen:   MAE: {:.4f},  STD: {:.4f}, MAPE: {:.4f}'.format(np.mean(MAE), np.mean(STD), np.mean(MAPE))\n",
    "        text_file.write(info + \"\\n\")\n",
    "\n",
    "    #save predicted data\n",
    "    test_time = test_Temp_time[47+6:]\n",
    "    print(len(test_time), len(tp_ty[0]))\n",
    "    for i in range(len(tp_py)):\n",
    "        df = pd.DataFrame({'date': test_time,\n",
    "                    'value': tp_py[i]})\n",
    "    #    df.to_csv(root+'/prediction/' + ts_stem +str(sensor_idx[i])+'_SPATIAL_prediction.csv', index=False)\n",
    "\n",
    "    ytest_spatial = tp_ty\n",
    "    ypred_spatial = tp_py"
   ]
  },
  {
   "cell_type": "code",
   "execution_count": null,
   "metadata": {},
   "outputs": [],
   "source": [
    "#CNN -------------------------- model training \n",
    "if 'CNN' in model_select:\n",
    "    name = '_Temp_diff_' + 'CNN'\n",
    "    tp_py, tp_ty, tp_error, tp_std, tp_model = SP_Learner(Temp_diff, name, train_split, test_split, train_time, predict_time, \n",
    "                                                        predict_position, Stride, 0, epoches, run_model='CNN',\n",
    "                                                        batch_size=batch_size,  plot=False)\n",
    "\n",
    "    print('Temp CNN MEAN: ', data.mean(), 'STD: ',data.std(), 'Skew: ', data.skew())\n",
    "\n",
    "    #record the errors\n",
    "    error_file = error_folder + name + '_error.txt'\n",
    "    open(error_file, 'w').close()\n",
    "    MAE = []\n",
    "    MAPE = []\n",
    "    STD = []\n",
    "    with open(error_file, \"a\") as text_file:\n",
    "        for i in range(len(tp_py)):\n",
    "            mae = mean_absolute_error(tp_ty[i], tp_py[i])\n",
    "            MAE.append(mae)\n",
    "            mape = mean_absolute_percentage_error(tp_ty[i], tp_py[i])\n",
    "            MAPE.append(mape)\n",
    "            std = np.std(abs(tp_py[i] - tp_ty[i]))\n",
    "            STD.append(std)\n",
    "            info = 'Oxygen sensor {}:   mae: {:.4f},  std: {:.4f}, mape: {:.4f}'.format(i, mae, std, mape)\n",
    "            text_file.write(info + \"\\n\")\n",
    "            print('mae: ', mae, 'std: ', std, 'mape: ', mape)\n",
    "        info = 'Oxygen:   MAE: {:.4f},  STD: {:.4f}, MAPE: {:.4f}'.format(np.mean(MAE), np.mean(STD), np.mean(MAPE))\n",
    "        text_file.write(info + \"\\n\")\n",
    "\n",
    "    #save predicted data\n",
    "    test_time = test_Temp_time[47+6:]\n",
    "    print(len(test_time), len(tp_ty[0]))\n",
    "\n",
    "    for i in range(len(tp_py)):\n",
    "        df = pd.DataFrame({'date': test_time,\n",
    "                    'value': tp_py[i]})\n",
    "        df.to_csv(root+'/prediction/' + ts_stem +str(sensor_idx[i])+'_CNN_prediction.csv', index=False)\n",
    "    ytest_CNN = tp_ty\n",
    "    ypred_CNN = tp_py\n"
   ]
  },
  {
   "cell_type": "code",
   "execution_count": null,
   "metadata": {},
   "outputs": [],
   "source": [
    "#LSTM -------------------------- model training \n",
    "if 'LSTM' in model_select:\n",
    "    name = '_Temp_diff_' + 'CNN'\n",
    "    tp_py, tp_ty, tp_error, tp_std, tp_model = SP_Learner(Temp_diff, name, train_split, test_split, train_time, predict_time, \n",
    "                                                        predict_position, Stride, 0, epoches, run_model='LSTM',\n",
    "                                                        batch_size=batch_size,  plot=False)\n",
    "\n",
    "    print('Temp LSTM MEAN: ', data.mean(), 'STD: ',data.std(), 'Skew: ', data.skew())\n",
    "\n",
    "    #record the errors\n",
    "    error_file = error_folder + name + '_error.txt'\n",
    "    open(error_file, 'w').close()\n",
    "    MAE = []\n",
    "    MAPE = []\n",
    "    STD = []\n",
    "    with open(error_file, \"a\") as text_file:\n",
    "        for i in range(len(tp_py)):\n",
    "            mae = mean_absolute_error(tp_ty[i], tp_py[i])\n",
    "            MAE.append(mae)\n",
    "            mape = mean_absolute_percentage_error(tp_ty[i], tp_py[i])\n",
    "            MAPE.append(mape)\n",
    "            std = np.std(abs(tp_py[i] - tp_ty[i]))\n",
    "            STD.append(std)\n",
    "            info = 'Oxygen sensor {}:   mae: {:.4f},  std: {:.4f}, mape: {:.4f}'.format(i, mae, std, mape)\n",
    "            text_file.write(info + \"\\n\")\n",
    "            print('mae: ', mae, 'std: ', std, 'mape: ', mape)\n",
    "        info = 'Temperature:   MAE: {:.4f},  STD: {:.4f}, MAPE: {:.4f}'.format(np.mean(MAE), np.mean(STD), np.mean(MAPE))\n",
    "        text_file.write(info + \"\\n\")\n",
    "\n",
    "    #save predicted data\n",
    "    test_time = test_Temp_time[47+6:]\n",
    "    print(len(test_time), len(tp_ty[0]))\n",
    "\n",
    "    for i in range(len(tp_py)):\n",
    "        df = pd.DataFrame({'date': test_time,\n",
    "                    'value': tp_py[i]})\n",
    "        df.to_csv(root+'/prediction/' + ts_stem +str(sensor_idx[i])+'_LSTM_prediction.csv', index=False)\n",
    "    ytest_lstm = tp_ty\n",
    "    ypred_lstm = tp_py\n",
    "\n"
   ]
  },
  {
   "cell_type": "code",
   "execution_count": null,
   "metadata": {},
   "outputs": [],
   "source": [
    "sel = 0\n",
    "plt.plot(ytest_CNN[sel], 'k.', label = 'test')\n",
    "plt.plot(ypred_CNN[sel], 'r.', label = 'CNN')\n",
    "plt.plot(ypred_spatial[sel], 'g.', label = 'spatial')\n",
    "plt.plot(ypred_lstm[sel], 'b.', label = 'LSTM')\n",
    "plt.legend(loc = 'upper left',fontsize='xx-small')\n",
    "plt.ylim([-1,1])\n",
    "#plt.xlim([250,750])"
   ]
  },
  {
   "cell_type": "code",
   "execution_count": null,
   "metadata": {},
   "outputs": [],
   "source": [
    "for i in range(len(ytest_CNN)):\n",
    "    mae_CNN = mean_absolute_error(ytest_CNN[i], ypred_CNN[i])\n",
    "    mae_lstm = mean_absolute_error(ytest_CNN[i], ypred_lstm[i])\n",
    "    mae_spatial = mean_absolute_error(ytest_CNN[i], ypred_spatial[i])\n",
    "    print(i, mae_CNN, mae_lstm, mae_spatial)"
   ]
  }
 ],
 "metadata": {
  "kernelspec": {
   "display_name": "Python [conda env:lale]",
   "language": "python",
   "name": "conda-env-lale-py"
  },
  "language": "python",
  "language_info": {
   "codemirror_mode": {
    "name": "ipython",
    "version": 3
   },
   "file_extension": ".py",
   "mimetype": "text/x-python",
   "name": "python",
   "nbconvert_exporter": "python",
   "pygments_lexer": "ipython3",
   "version": "3.9.7"
  }
 },
 "nbformat": 4,
 "nbformat_minor": 4
}
